{
  "nbformat": 4,
  "nbformat_minor": 0,
  "metadata": {
    "colab": {
      "provenance": []
    },
    "kernelspec": {
      "name": "python3",
      "display_name": "Python 3"
    },
    "language_info": {
      "name": "python"
    }
  },
  "cells": [
    {
      "cell_type": "code",
      "execution_count": null,
      "metadata": {
        "colab": {
          "base_uri": "https://localhost:8080/",
          "height": 119
        },
        "id": "X7xnLr2hXVHI",
        "outputId": "8026e644-e16c-4c6c-d97a-b225158e5161"
      },
      "outputs": [
        {
          "output_type": "execute_result",
          "data": {
            "text/plain": [
              "Matrix([\n",
              "[9, 0, 1, 7, 1],\n",
              "[7, 2, 8, 0, 0],\n",
              "[4, 2, 1, 5, 5],\n",
              "[7, 4, 1, 8, 8],\n",
              "[1, 3, 6, 2, 2]])"
            ],
            "text/latex": "$\\displaystyle \\left[\\begin{matrix}9 & 0 & 1 & 7 & 1\\\\7 & 2 & 8 & 0 & 0\\\\4 & 2 & 1 & 5 & 5\\\\7 & 4 & 1 & 8 & 8\\\\1 & 3 & 6 & 2 & 2\\end{matrix}\\right]$"
          },
          "metadata": {},
          "execution_count": 8
        }
      ],
      "source": [
        "# Q2: Row Echelon Form\n",
        "import numpy as np\n",
        "import sympy as sp\n",
        "np.random.seed(11) # set seed to roll no. 23091011\n",
        "\n",
        "# create a random matrix\n",
        "A = np.random.randint(0, 10, (5, 5))\n",
        "sp.Matrix(A)\n"
      ]
    },
    {
      "cell_type": "code",
      "source": [
        " # Reduce A to its RE form\n",
        "#Method 1\n",
        "A_rref_piv = sp.Matrix(A).rref() #this gives us Re form along with the pivot colums so we\n",
        "A_rref = A_rref_piv[:1] #extract RE matrix\n",
        "sp.Matrix(A_rref)"
      ],
      "metadata": {
        "colab": {
          "base_uri": "https://localhost:8080/",
          "height": 119
        },
        "id": "CWbHyaapZFJy",
        "outputId": "96eba49d-4255-4636-b1f3-1c606a987139"
      },
      "execution_count": null,
      "outputs": [
        {
          "output_type": "execute_result",
          "data": {
            "text/plain": [
              "Matrix([\n",
              "[1, 0, 0, 0, 0],\n",
              "[0, 1, 0, 0, 0],\n",
              "[0, 0, 1, 0, 0],\n",
              "[0, 0, 0, 1, 0],\n",
              "[0, 0, 0, 0, 1]])"
            ],
            "text/latex": "$\\displaystyle \\left[\\begin{matrix}1 & 0 & 0 & 0 & 0\\\\0 & 1 & 0 & 0 & 0\\\\0 & 0 & 1 & 0 & 0\\\\0 & 0 & 0 & 1 & 0\\\\0 & 0 & 0 & 0 & 1\\end{matrix}\\right]$"
          },
          "metadata": {},
          "execution_count": 3
        }
      ]
    },
    {
      "cell_type": "code",
      "source": [
        "#Method 2, using elemenatry operations\n",
        "np.random.seed(11)\n",
        "A = np.random.randint(0, 10, (5, 5))\n",
        "A[1] = A[0] - A[1]\n",
        "A[3] = A[3] - A[4] - A[2] - A[1]\n",
        "A[0] = A[0] - 2*A[2]\n",
        "A[2] = A[2] - 2*A[1]\n",
        "A[1] = A[1] - A[0] - A[4]\n",
        "A[4] = A[4] - A[0] #1st pivot column\n",
        "\n",
        "A[1] = A[1] + A[2]//3\n",
        "A[4] = A[4] - A[2] - A[3]\n",
        "A[2] = A[2]//3 - A[1] - A[3]\n",
        "A[3] = A[3] - A[1] #2nd pivot\n",
        "\n",
        "A[2] = A[2] + A[4]\n",
        "A[3] = A[3] - 2*A[2]\n",
        "A[4] = A[4] + 2*A[3] + A[2]//2\n",
        "A[3] = A[3] - 2*A[2]\n",
        "A[2] = A[2]//2 #3rd pivot\n",
        "\n",
        "A[3] = A[3] - A[4]\n",
        "A[4] = A[4] - 4*A[3]\n",
        "A[3] = A[3] + 3*A[4]\n",
        "A[3] = A[4] - 2*A[3]\n",
        "A[4] = A[4]//7\n",
        "A[4] = A[3] - A[4]\n",
        "A[4] = A[4]//70 #4th and 5th pivot\n",
        "sp.Matrix(A)"
      ],
      "metadata": {
        "colab": {
          "base_uri": "https://localhost:8080/",
          "height": 119
        },
        "id": "HDngJclS9Mv-",
        "outputId": "779a5cd4-5966-47c7-aafc-94c70d9e264c"
      },
      "execution_count": null,
      "outputs": [
        {
          "output_type": "execute_result",
          "data": {
            "text/plain": [
              "Matrix([\n",
              "[1, -4, -1, -3, -9],\n",
              "[0,  1, -7,  5,  9],\n",
              "[0,  0,  1,  9,  0],\n",
              "[0,  0,  0,  1, 68],\n",
              "[0,  0,  0,  0,  1]])"
            ],
            "text/latex": "$\\displaystyle \\left[\\begin{matrix}1 & -4 & -1 & -3 & -9\\\\0 & 1 & -7 & 5 & 9\\\\0 & 0 & 1 & 9 & 0\\\\0 & 0 & 0 & 1 & 68\\\\0 & 0 & 0 & 0 & 1\\end{matrix}\\right]$"
          },
          "metadata": {},
          "execution_count": 45
        }
      ]
    },
    {
      "cell_type": "code",
      "source": [
        "# _____________________________________________________________________________\n",
        "# _____________________________________________________________________________\n",
        "# Q3 : SVD on A\n",
        "np.random.seed(11)\n",
        "A = np.random.randint(0, 10, (5, 5))\n",
        "U, s, Vt = np.linalg.svd(A)\n",
        "s # now put the singular values into a diagonal matrix\n",
        "S = np.zeros((5, 5)) #now put singular values on diag\n",
        "S = np.diag(s) # now verify\n",
        "sp.Matrix( np.round(U @ S @ Vt, 1))"
      ],
      "metadata": {
        "colab": {
          "base_uri": "https://localhost:8080/",
          "height": 119
        },
        "id": "tTUADuOQZFVC",
        "outputId": "6cae6dfa-b69b-4cbf-d539-5967c0bf9e53"
      },
      "execution_count": null,
      "outputs": [
        {
          "output_type": "execute_result",
          "data": {
            "text/plain": [
              "Matrix([\n",
              "[9.0,   0, 1.0, 7.0, 1.0],\n",
              "[7.0, 2.0, 8.0,   0,   0],\n",
              "[4.0, 2.0, 1.0, 5.0, 5.0],\n",
              "[7.0, 4.0, 1.0, 8.0, 8.0],\n",
              "[1.0, 3.0, 6.0, 2.0, 2.0]])"
            ],
            "text/latex": "$\\displaystyle \\left[\\begin{matrix}9.0 & 0 & 1.0 & 7.0 & 1.0\\\\7.0 & 2.0 & 8.0 & 0 & 0\\\\4.0 & 2.0 & 1.0 & 5.0 & 5.0\\\\7.0 & 4.0 & 1.0 & 8.0 & 8.0\\\\1.0 & 3.0 & 6.0 & 2.0 & 2.0\\end{matrix}\\right]$"
          },
          "metadata": {},
          "execution_count": 50
        }
      ]
    },
    {
      "cell_type": "code",
      "source": [
        "# PCA on A\n",
        "# Rank 2\n",
        "k = 2\n",
        "S_k = np.diag( np.diag(S[:k])) # pick up the first k singular values, here k=2\n",
        "U_k = U[ :, :k] # slice U and V accordingly\n",
        "Vt_k = Vt[ :k, :]\n",
        "A_k = np.dot( U_k, np.dot(S_k, Vt_k))\n",
        "sp.Matrix( np.round(A_k, 1))"
      ],
      "metadata": {
        "colab": {
          "base_uri": "https://localhost:8080/",
          "height": 119
        },
        "id": "zUDdyb9eZFaG",
        "outputId": "9b7b3a38-d31a-4d80-e50b-c4e4028874e6"
      },
      "execution_count": null,
      "outputs": [
        {
          "output_type": "execute_result",
          "data": {
            "text/plain": [
              "Matrix([\n",
              "[6.5, 2.3, 2.2, 5.9, 4.4],\n",
              "[6.0, 2.3, 8.5, 0.7, 0.1],\n",
              "[4.8, 1.7, 0.5, 5.2, 3.9],\n",
              "[7.9, 2.8, 0.6, 8.7, 6.5],\n",
              "[3.8, 1.5, 4.5, 1.1, 0.6]])"
            ],
            "text/latex": "$\\displaystyle \\left[\\begin{matrix}6.5 & 2.3 & 2.2 & 5.9 & 4.4\\\\6.0 & 2.3 & 8.5 & 0.7 & 0.1\\\\4.8 & 1.7 & 0.5 & 5.2 & 3.9\\\\7.9 & 2.8 & 0.6 & 8.7 & 6.5\\\\3.8 & 1.5 & 4.5 & 1.1 & 0.6\\end{matrix}\\right]$"
          },
          "metadata": {},
          "execution_count": 51
        }
      ]
    },
    {
      "cell_type": "code",
      "source": [
        "# Rank 3\n",
        "k = 3\n",
        "S_k = np.diag( np.diag(S[:k]))\n",
        "U_k = U[ :, :k]\n",
        "Vt_k = Vt[ :k, :]\n",
        "A_k = np.dot( U_k, np.dot(S_k, Vt_k))\n",
        "sp.Matrix( np.round(A_k, 1))\n"
      ],
      "metadata": {
        "colab": {
          "base_uri": "https://localhost:8080/",
          "height": 119
        },
        "id": "bm-P8GJbH-is",
        "outputId": "57708211-573b-49a4-e444-6b5e6607efcc"
      },
      "execution_count": null,
      "outputs": [
        {
          "output_type": "execute_result",
          "data": {
            "text/plain": [
              "Matrix([\n",
              "[9.4, 0.1, 0.7, 6.3,  1.4],\n",
              "[6.5, 1.9, 8.3, 0.8, -0.5],\n",
              "[4.0, 2.3, 0.9, 5.1,  4.8],\n",
              "[6.7, 3.7, 1.3, 8.5,  7.8],\n",
              "[1.7, 3.1, 5.6, 0.8,  2.7]])"
            ],
            "text/latex": "$\\displaystyle \\left[\\begin{matrix}9.4 & 0.1 & 0.7 & 6.3 & 1.4\\\\6.5 & 1.9 & 8.3 & 0.8 & -0.5\\\\4.0 & 2.3 & 0.9 & 5.1 & 4.8\\\\6.7 & 3.7 & 1.3 & 8.5 & 7.8\\\\1.7 & 3.1 & 5.6 & 0.8 & 2.7\\end{matrix}\\right]$"
          },
          "metadata": {},
          "execution_count": 52
        }
      ]
    }
  ]
}